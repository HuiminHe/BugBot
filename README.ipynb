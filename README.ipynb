{
 "cells": [
  {
   "cell_type": "markdown",
   "metadata": {},
   "source": [
    "# BugBot\n",
    "--------\n",
    "> BugBot is a open-source 2D bug robot simulator. \n",
    "\n",
    "<table align=\"center\">\n",
    "  <tr>\n",
    "    <td> <img src=\"images/demo1.gif\" alt=\"Drawing\" style=\"width: 250px;\"/> </td>\n",
    "    <td> <img src=\"images/demo2.gif\" alt=\"Drawing\" style=\"width: 250px;\"/> </td>\n",
    "  </tr>\n",
    "</table>\n",
    "\n",
    "The library is purely pythonic and easy to extend. The package can be used for researches or assignments on the subjects such as artificial intelligence, multi-agent system and robotics.The repository is designed to comfort those who had lots of pain playing with [**Stage/Player**](https://github.com/rtv/Stage) Python API. The famous 2d robot simulation package has a flawed Python API and has been out of maintenance since Ubuntu 11.04.\n",
    "\n",
    "\n",
    "\n",
    "## Dependency\n",
    "--------\n",
    "- numpy\n",
    "- scipy\n",
    "- pyglet"
   ]
  },
  {
   "cell_type": "markdown",
   "metadata": {},
   "source": [
    "## To begin with\n",
    "--------\n",
    "The following script is a minimal example using the package."
   ]
  },
  {
   "cell_type": "code",
   "execution_count": null,
   "metadata": {
    "collapsed": true
   },
   "outputs": [],
   "source": [
    "from simulator import Simulator, Map, Agent\n",
    "import numpy as np\n",
    "\n",
    "class config:\n",
    "    metadata = {\n",
    "    'render.modes': ['human', 'rgb_array'],\n",
    "    'video.frames_per_second': 10,\n",
    "    'world_width': 300, \n",
    "    'world_height': 300,\n",
    "    'screen_width': 600,\n",
    "    'screen_height': 600,\n",
    "    'dt': 1.0 / 10,\n",
    "    'eps': 5.0\n",
    "    }\n",
    "    rebounce = 0.5\n",
    "\n",
    "env = Simulator(config=config)\n",
    "map = Map()\n",
    "map.get_map_from_geom2d(env, kp=np.array([[-100,0], [100,0]]))\n",
    "\n",
    "n_targets = 10\n",
    "n_robots = 10\n",
    "\n",
    "targets = [Agent(env, kp=np.array([[-3, 0], [3, 0]]), color=(1, 0, 0, 0.5), v_max=1.5) for i in range(n_targets)]\n",
    "robots = [Agent(env,  kp=np.array([[-3, 0], [3, 0]]), color=(1, 0, 1, 0.5), v_max=2) for i in range(n_robots)]\n",
    "vs = (np.random.rand(n_targets+n_robots,2) - 0.5) * 4\n",
    "\n",
    "while True:\n",
    "    env._render()\n",
    "    for i in range(n_targets + n_robots):\n",
    "        if np.random.rand() < 0.02:\n",
    "            vs[i] = (np.random.rand(2) - 0.5) * 4\n",
    "        else:\n",
    "            vs[i] = vs[i]\n",
    "    for i, t in enumerate(targets+robots):\n",
    "        t.update(v=np.array(vs[i]))"
   ]
  },
  {
   "cell_type": "markdown",
   "metadata": {},
   "source": [
    "In bugbot simulation, either map or agents are subclass of *Geom2d* which is a wrapper over Geom defined in [OpenAI Gym](https://github.com/openai/gym). You can define a Geom2d using *keypoints* and *geom_type*. if the length of keypoints is less than 3, geom type is automatically set to be 'circle', otherwise the default is 'polygon'. For OOP user, you will want to customize your agent as the subclass of the base class. An more compact example is also given here"
   ]
  },
  {
   "cell_type": "code",
   "execution_count": null,
   "metadata": {
    "scrolled": true
   },
   "outputs": [],
   "source": [
    "from simulator import Simulator, Map, Agent\n",
    "from devices import Device\n",
    "import numpy as np\n",
    "from time import time\n",
    "from utils import dist\n",
    "\n",
    "\n",
    "# an example of simulator configuration\n",
    "class config:\n",
    "    metadata = {\n",
    "    'render.modes': ['human', 'rgb_array'],\n",
    "    'video.frames_per_second': 10,\n",
    "    'world_width': 300,\n",
    "    'world_height': 250,\n",
    "    'screen_width': 600, # size of window\n",
    "    'screen_height': 500, # size of window\n",
    "    'dt': 1.0 / 10,\n",
    "    'eps': 1.0\n",
    "    }\n",
    "    rebounce = 0.5 # rebounce factor. 0 for no rebounce. 1 for rebounce with same speed at the opposite direction.\n",
    "\n",
    "# example of overloading agent class\n",
    "class Robot(Agent):\n",
    "    def __init__(self, env):\n",
    "        '''\n",
    "            for each subclass of Agent you need to implement update method to update the velocity or acceleration\n",
    "            to enable motion.\n",
    "        '''\n",
    "        Agent.__init__(self, env, \n",
    "                       kp=np.array([[-2, -2], [2, -2], [2, 2], [-2, 2]]), \n",
    "                       color=(1, 0, 0, 0.5), \n",
    "                       v_max=2.0)\n",
    "        self.sensor = Sensor(env, self)\n",
    "    def update(self, t):\n",
    "        self.sensor.read()\n",
    "        v_x = self.v_max * (np.cos(t) + np.random.rand())\n",
    "        v_y = self.v_max * (np.sin(t) + np.random.rand())\n",
    "        # the renderer           \n",
    "        self.v = np.array([v_x, v_y])\n",
    "        self.va = np.pi\n",
    "\n",
    "# example of a range sensor that changes color when detect other agents or a obstacle.        \n",
    "class Sensor(Device):\n",
    "    def __init__(self, env, parent, radius=10):\n",
    "        self.radius = radius\n",
    "        kp=np.array([[-radius, 0], [radius, 0]])\n",
    "        Device.__init__(self, env, parent, kp=kp, color=(0, 1, 0, 0.5), filled=True)\n",
    "        \n",
    "    def read(self):\n",
    "        '''\n",
    "        return true if detect something.\n",
    "        '''\n",
    "        for a in self.env.agents:\n",
    "            if a is not self.parent and dist(self.parent, a) < self.radius:\n",
    "                self.geom.set_color_rgba(np.array([1, 0, 0, 0.5]))\n",
    "                print('collision with agents')\n",
    "                print(dist(self.parent, a))\n",
    "                return True\n",
    "        print(dist(self.parent, self.env.map))\n",
    "        if dist(self.parent, self.env.map) < self.radius:\n",
    "            self.geom.set_color_rgba(np.array([1, 0, 0, 0.5]))\n",
    "            \n",
    "            return True\n",
    "        \n",
    "        self.geom.set_color_rgba(np.array([0, 1, 0, 0.5]))\n",
    "        return False\n",
    "    \n",
    "    \n",
    "env = Simulator(config=config)\n",
    "my_map = Map()\n",
    "my_map.get_map_from_geom2d(env, kp=np.array([[-100, 0], [100, 0]]))\n",
    "\n",
    "robots = [Robot(env) for i in range(5)]\n",
    "\n",
    "while True:\n",
    "    t = time()\n",
    "    [r.update(t) for r in robots]\n",
    "    env._render()"
   ]
  },
  {
   "cell_type": "code",
   "execution_count": null,
   "metadata": {
    "collapsed": true
   },
   "outputs": [],
   "source": []
  },
  {
   "cell_type": "code",
   "execution_count": null,
   "metadata": {
    "collapsed": true
   },
   "outputs": [],
   "source": []
  }
 ],
 "metadata": {
  "kernelspec": {
   "display_name": "Python 3",
   "language": "python",
   "name": "python3"
  },
  "language_info": {
   "codemirror_mode": {
    "name": "ipython",
    "version": 3
   },
   "file_extension": ".py",
   "mimetype": "text/x-python",
   "name": "python",
   "nbconvert_exporter": "python",
   "pygments_lexer": "ipython3",
   "version": "3.6.2"
  }
 },
 "nbformat": 4,
 "nbformat_minor": 2
}
