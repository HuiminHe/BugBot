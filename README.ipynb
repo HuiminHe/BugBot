{
 "cells": [
  {
   "cell_type": "markdown",
   "metadata": {},
   "source": [
    "# BugBot\n",
    "--------\n",
    "> BugBot is a open-source 2D bug robot simulator. \n",
    "\n",
    "<table align=\"center\">\n",
    "  <tr>\n",
    "    <td> <img src=\"images/demo1.gif\" alt=\"Drawing\" style=\"width: 250px;\"/> </td>\n",
    "    <td> <img src=\"images/demo2.gif\" alt=\"Drawing\" style=\"width: 250px;\"/> </td>\n",
    "  </tr>\n",
    "</table>\n",
    "\n",
    "The library is purely pythonic and easy to extend. The package can be used for researches or assignments on the subjects such as artificial intelligence, multi-agent system and robotics.The repository is designed to comfort those who had lots of pain playing with [**Stage/Player**](https://github.com/rtv/Stage) Python API. The famous 2d robot simulation package has a flawed Python API and has been out of maintenance since Ubuntu 11.04.\n",
    "\n",
    "\n",
    "\n",
    "## Dependency\n",
    "--------\n",
    "- numpy\n",
    "- scipy\n",
    "- pyglet"
   ]
  },
  {
   "cell_type": "markdown",
   "metadata": {},
   "source": [
    "## To begin with\n",
    "--------\n",
    "The following script is a minimal example using the package."
   ]
  },
  {
   "cell_type": "code",
   "execution_count": null,
   "metadata": {},
   "outputs": [],
   "source": [
    "from simulator import Simulator, Map, Agent\n",
    "import numpy as np\n",
    "\n",
    "class config:\n",
    "    metadata = {\n",
    "    'render.modes': ['human', 'rgb_array'],\n",
    "    'video.frames_per_second': 10,\n",
    "    'world_width': 300, \n",
    "    'world_height': 300,\n",
    "    'screen_width': 600,\n",
    "    'screen_height': 600,\n",
    "    'dt': 1.0 / 10,\n",
    "    'eps': 5.0\n",
    "    }\n",
    "    rebounce = 0.5\n",
    "\n",
    "from simulator import Simulator, Map, Agent\n",
    "import numpy as np\n",
    "from time import time\n",
    "import simulator_config\n",
    "\n",
    "env = Simulator(config=simulator_config)\n",
    "map = Map()\n",
    "map.get_map_from_geom2d(env, np.array([[-100,0], [100,0]]))\n",
    "\n",
    "n_targets = 10\n",
    "n_robots = 10\n",
    "\n",
    "targets = [Agent(env, kp=np.array([[-2, 0], [2, 0]]), color=(1, 0, 0, 0.5), v_max=1.5) for i in range(n_targets)]\n",
    "robots = [Agent(env, kp=np.array([[-2, 0], [2, 0]]), color=(0, 0, 1, 0.5), v_max=2) for i in range(n_robots)]\n",
    "tic = time()\n",
    "vs = (np.random.rand(n_targets+n_robots,2) - 0.5) * 4\n",
    "\n",
    "\n",
    "while True:\n",
    "    env._render()\n",
    "    for i in range(n_targets + n_robots):\n",
    "        if np.random.rand() < 0.02:\n",
    "            vs[i] = (np.random.rand(2) - 0.5) * 4\n",
    "        else:\n",
    "            vs[i] = vs[i]\n",
    "    for i, t in enumerate(targets+robots):\n",
    "        t.update(v=np.array(vs[i]))"
   ]
  },
  {
   "cell_type": "markdown",
   "metadata": {},
   "source": [
    "In bugbot simulation, either map or agents are subclass of *Geom2d* which is a wrapper over Geom defined in [OpenAI Gym](https://github.com/openai/gym). You can define a Geom2d using *keypoints* and *geom_type*. if the length of keypoints is less than 3, geom type is automatically set to be 'circle', otherwise the default is 'polygon'. For OOP user, you will want to customize your agent as the subclass of the base class. An more compact example is also given here"
   ]
  },
  {
   "cell_type": "code",
   "execution_count": 2,
   "metadata": {
    "scrolled": true
   },
   "outputs": [
    {
     "ename": "ArgumentError",
     "evalue": "argument 2: <class 'TypeError'>: wrong type",
     "output_type": "error",
     "traceback": [
      "\u001b[0;31m---------------------------------------------------------------------------\u001b[0m",
      "\u001b[0;31mArgumentError\u001b[0m                             Traceback (most recent call last)",
      "\u001b[0;32m<ipython-input-2-a4decd518c40>\u001b[0m in \u001b[0;36m<module>\u001b[0;34m()\u001b[0m\n\u001b[1;32m     44\u001b[0m     \u001b[0mt\u001b[0m \u001b[0;34m=\u001b[0m \u001b[0mtime\u001b[0m\u001b[0;34m(\u001b[0m\u001b[0;34m)\u001b[0m\u001b[0;34m\u001b[0m\u001b[0m\n\u001b[1;32m     45\u001b[0m     \u001b[0;34m[\u001b[0m\u001b[0mr\u001b[0m\u001b[0;34m.\u001b[0m\u001b[0mupdate\u001b[0m\u001b[0;34m(\u001b[0m\u001b[0mt\u001b[0m\u001b[0;34m)\u001b[0m \u001b[0;32mfor\u001b[0m \u001b[0mr\u001b[0m \u001b[0;32min\u001b[0m \u001b[0mrobots\u001b[0m\u001b[0;34m]\u001b[0m\u001b[0;34m\u001b[0m\u001b[0m\n\u001b[0;32m---> 46\u001b[0;31m     \u001b[0menv\u001b[0m\u001b[0;34m.\u001b[0m\u001b[0m_render\u001b[0m\u001b[0;34m(\u001b[0m\u001b[0;34m)\u001b[0m\u001b[0;34m\u001b[0m\u001b[0m\n\u001b[0m",
      "\u001b[0;32m~/code/bug_bot/bugbot/simulator.py\u001b[0m in \u001b[0;36m_render\u001b[0;34m(self, mode, close)\u001b[0m\n\u001b[1;32m     67\u001b[0m         \u001b[0;31m# update collision detector\u001b[0m\u001b[0;34m\u001b[0m\u001b[0;34m\u001b[0m\u001b[0m\n\u001b[1;32m     68\u001b[0m         \u001b[0mself\u001b[0m\u001b[0;34m.\u001b[0m\u001b[0mcounter\u001b[0m \u001b[0;34m+=\u001b[0m \u001b[0;36m1\u001b[0m\u001b[0;34m\u001b[0m\u001b[0m\n\u001b[0;32m---> 69\u001b[0;31m         \u001b[0;32mreturn\u001b[0m \u001b[0mself\u001b[0m\u001b[0;34m.\u001b[0m\u001b[0mviewer\u001b[0m\u001b[0;34m.\u001b[0m\u001b[0mrender\u001b[0m\u001b[0;34m(\u001b[0m\u001b[0mreturn_rgb_array\u001b[0m \u001b[0;34m=\u001b[0m \u001b[0mmode\u001b[0m\u001b[0;34m==\u001b[0m\u001b[0;34m'rgb_array'\u001b[0m\u001b[0;34m)\u001b[0m\u001b[0;34m\u001b[0m\u001b[0m\n\u001b[0m\u001b[1;32m     70\u001b[0m \u001b[0;34m\u001b[0m\u001b[0m\n\u001b[1;32m     71\u001b[0m     \u001b[0;32mdef\u001b[0m \u001b[0madd_effect\u001b[0m\u001b[0;34m(\u001b[0m\u001b[0mself\u001b[0m\u001b[0;34m,\u001b[0m \u001b[0meffect\u001b[0m\u001b[0;34m)\u001b[0m\u001b[0;34m:\u001b[0m\u001b[0;34m\u001b[0m\u001b[0m\n",
      "\u001b[0;32m~/code/bug_bot/bugbot/rendering.py\u001b[0m in \u001b[0;36mrender\u001b[0;34m(self, return_rgb_array)\u001b[0m\n\u001b[1;32m     79\u001b[0m         \u001b[0mself\u001b[0m\u001b[0;34m.\u001b[0m\u001b[0mwindow\u001b[0m\u001b[0;34m.\u001b[0m\u001b[0mclear\u001b[0m\u001b[0;34m(\u001b[0m\u001b[0;34m)\u001b[0m\u001b[0;34m\u001b[0m\u001b[0m\n\u001b[1;32m     80\u001b[0m         \u001b[0mself\u001b[0m\u001b[0;34m.\u001b[0m\u001b[0mwindow\u001b[0m\u001b[0;34m.\u001b[0m\u001b[0mswitch_to\u001b[0m\u001b[0;34m(\u001b[0m\u001b[0;34m)\u001b[0m\u001b[0;34m\u001b[0m\u001b[0m\n\u001b[0;32m---> 81\u001b[0;31m         \u001b[0mself\u001b[0m\u001b[0;34m.\u001b[0m\u001b[0mwindow\u001b[0m\u001b[0;34m.\u001b[0m\u001b[0mdispatch_events\u001b[0m\u001b[0;34m(\u001b[0m\u001b[0;34m)\u001b[0m\u001b[0;34m\u001b[0m\u001b[0m\n\u001b[0m\u001b[1;32m     82\u001b[0m         \u001b[0mself\u001b[0m\u001b[0;34m.\u001b[0m\u001b[0mtransform\u001b[0m\u001b[0;34m.\u001b[0m\u001b[0menable\u001b[0m\u001b[0;34m(\u001b[0m\u001b[0;34m)\u001b[0m\u001b[0;34m\u001b[0m\u001b[0m\n\u001b[1;32m     83\u001b[0m         \u001b[0;32mfor\u001b[0m \u001b[0mgeom\u001b[0m \u001b[0;32min\u001b[0m \u001b[0mself\u001b[0m\u001b[0;34m.\u001b[0m\u001b[0mgeoms\u001b[0m\u001b[0;34m:\u001b[0m\u001b[0;34m\u001b[0m\u001b[0m\n",
      "\u001b[0;32m~/anaconda3/lib/python3.6/site-packages/pyglet/window/xlib/__init__.py\u001b[0m in \u001b[0;36mdispatch_events\u001b[0;34m(self)\u001b[0m\n\u001b[1;32m    851\u001b[0m         \u001b[0;31m# Check for the events specific to this window\u001b[0m\u001b[0;34m\u001b[0m\u001b[0;34m\u001b[0m\u001b[0m\n\u001b[1;32m    852\u001b[0m         while xlib.XCheckWindowEvent(_x_display, _window,\n\u001b[0;32m--> 853\u001b[0;31m                                      0x1ffffff, byref(e)):\n\u001b[0m\u001b[1;32m    854\u001b[0m             \u001b[0;31m# Key events are filtered by the xlib window event\u001b[0m\u001b[0;34m\u001b[0m\u001b[0;34m\u001b[0m\u001b[0m\n\u001b[1;32m    855\u001b[0m             \u001b[0;31m# handler so they get a shot at the prefiltered event.\u001b[0m\u001b[0;34m\u001b[0m\u001b[0;34m\u001b[0m\u001b[0m\n",
      "\u001b[0;31mArgumentError\u001b[0m: argument 2: <class 'TypeError'>: wrong type"
     ]
    }
   ],
   "source": [
    "from simulator import Simulator, Map, Agent\n",
    "import numpy as np\n",
    "from time import time\n",
    "\n",
    "class config:\n",
    "    metadata = {\n",
    "    'render.modes': ['human', 'rgb_array'],\n",
    "    'video.frames_per_second': 10,\n",
    "    'world_width': 300, \n",
    "    'world_height': 250,\n",
    "    'screen_width': 600,\n",
    "    'screen_height': 500,\n",
    "    'dt': 1.0 / 10,\n",
    "    'eps': 5.0\n",
    "    }\n",
    "    rebounce = 1.5\n",
    "\n",
    "class Robot(Agent):\n",
    "    def __init__(self, env):\n",
    "        '''\n",
    "            for each subclass of Agent you need to implement update method to update the velocity or acceleration\n",
    "            to enable motion.\n",
    "        '''\n",
    "        Agent.__init__(self, env, \n",
    "                       kp=np.array([[-2, -2], [2, -2], [2, 2], [-2, 2]]), \n",
    "                       color=(1, 0, 0, 0.5), \n",
    "                       v_max=2.0)\n",
    "    def update(self, t):\n",
    "        v_x = self.v_max * (np.cos(t) + np.random.rand())\n",
    "        v_y = self.v_max * (np.sin(t) + np.random.rand())\n",
    "        # the renderer           \n",
    "        self.v = np.array([v_x, v_y])\n",
    "        self.va = np.pi\n",
    "\n",
    "class \n",
    "    \n",
    "env = Simulator(config=config)\n",
    "my_map = Map()\n",
    "my_map.get_map_from_geom2d(env, kp=np.array([[-100, 0], [100, 0]]))\n",
    "\n",
    "robots = [Robot(env) for i in range(5)]\n",
    "\n",
    "\n",
    "while True:\n",
    "    t = time()\n",
    "    [r.update(t) for r in robots]\n",
    "    env._render()"
   ]
  },
  {
   "cell_type": "code",
   "execution_count": null,
   "metadata": {
    "collapsed": true
   },
   "outputs": [],
   "source": []
  },
  {
   "cell_type": "code",
   "execution_count": null,
   "metadata": {
    "collapsed": true
   },
   "outputs": [],
   "source": []
  }
 ],
 "metadata": {
  "kernelspec": {
   "display_name": "Python 3",
   "language": "python",
   "name": "python3"
  },
  "language_info": {
   "codemirror_mode": {
    "name": "ipython",
    "version": 3
   },
   "file_extension": ".py",
   "mimetype": "text/x-python",
   "name": "python",
   "nbconvert_exporter": "python",
   "pygments_lexer": "ipython3",
   "version": "3.6.2"
  }
 },
 "nbformat": 4,
 "nbformat_minor": 2
}
